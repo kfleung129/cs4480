{
 "cells": [
  {
   "cell_type": "code",
   "execution_count": 1,
   "id": "f3ef6c9c",
   "metadata": {},
   "outputs": [],
   "source": [
    "import requests\n",
    "import json\n",
    "import os\n",
    "import re\n",
    "import time\n",
    "from googlesearch import search\n",
    "from bs4 import BeautifulSoup as bs\n",
    "from joblib import Parallel, delayed"
   ]
  },
  {
   "cell_type": "code",
   "execution_count": 2,
   "id": "9dcd7fb8",
   "metadata": {},
   "outputs": [],
   "source": [
    "request_timeout = 10\n",
    "headers = {\n",
    "        'User-Agent': 'Mozilla/5.0 (Windows NT 6.1; WOW64; rv:49.0) Gecko/20100101 Firefox/49.0',\n",
    "        'Accept': 'text/html,application/xhtml+xml,application/xml;q=0.9,*/*;q=0.8',\n",
    "        'Accept-Language': 'en-US,en;q=0.5',\n",
    "        'Accept-Encoding': 'gzip, deflate',\n",
    "        'Connection': 'keep-alive',\n",
    "        'Cookie': '1P_JAR=2023-10-25-12; AEC=Ackid1QRp0k00ZR8wkSchjrI4TxT67QDIsxkdP6qfLqh3WuD9-nfTpqc0-c; NID=511=LP-_NqTCw8FjacALQJp9P_dHSzqHtAlaG48GObc-26iQjj8wHcIcPsxGbzizVB43rpKlKmpN72SYIJtjgQMr0VJjaqQ5-eA8Oi1MGuZJjsV3dMCyhdWYjwPKVMabTC-Dez3kV48ORewEX5O9jJdCItsjUaENbNTbqyyVot6QuNc',\n",
    "        'Cache-Control': 'private, max-age=0',\n",
    "        'Set-Cookie': '1P_JAR=2023-10-25-12; expires=Fri, 24-Nov-2023 12:24:37 GMT; path=/; domain=.google.com; Secure; SameSite=none'\n",
    "}\n",
    "html_pattern = \"<(?:\\\"[^\\\"]*\\\"['\\\"]*|'[^']*'['\\\"]*|[^'\\\">])+>\""
   ]
  },
  {
   "cell_type": "code",
   "execution_count": 3,
   "id": "6ceba417",
   "metadata": {},
   "outputs": [
    {
     "data": {
      "text/plain": [
       "'\\ndef get_google_news_urls(q, page, from_year, to_year):\\n    urls = []\\n    queries_tag = \"Gx5Zad fP1Qef xpd EtOod pkphOe\"\\n    title_tag = \"BNeawe vvjwJb AP7Wnd\"\\n    search_url = f\\'https://www.google.com/search?q={q}&lr=lang_en&cd_min=1/1/2015&cd_max=2013&tbs=sbd:1,lr:lang_en,cdr:1,cd_min:1/1/2015,cd_max:2015&tbm=nws&start={page * 10}\\'\\n    print(search_url)\\n    search_result = requests.get(search_url)\\n    soup = bs(search_result.content, \"html.parser\")\\n    body = soup.find(id=\"main\")\\n    queries = body.find_all(\"div\", queries_tag)\\n    for i in queries:\\n        output = {}\\n        header = i.find(\\'a\\')\\n        title = header.find(\\'div\\', \\'BNeawe vvjwJb AP7Wnd\\').text\\n        url = header[\\'href\\']\\n        url = url.replace(\\'/url?q=\\', \\'\\')\\n        url = url[0: s.index(\"&sa\")]\\n        output[\\'url\\'] = url\\n        output[\\'title\\'] = title\\n        urls.append(output)    \\n        \\n    return urls\\n'"
      ]
     },
     "execution_count": 3,
     "metadata": {},
     "output_type": "execute_result"
    }
   ],
   "source": [
    "\"\"\"\n",
    "def get_google_news_urls(q, page, from_year, to_year):\n",
    "    urls = []\n",
    "    queries_tag = \"Gx5Zad fP1Qef xpd EtOod pkphOe\"\n",
    "    title_tag = \"BNeawe vvjwJb AP7Wnd\"\n",
    "    search_url = f'https://www.google.com/search?q={q}&lr=lang_en&cd_min=1/1/2015&cd_max=2013&tbs=sbd:1,lr:lang_en,cdr:1,cd_min:1/1/2015,cd_max:2015&tbm=nws&start={page * 10}'\n",
    "    print(search_url)\n",
    "    search_result = requests.get(search_url)\n",
    "    soup = bs(search_result.content, \"html.parser\")\n",
    "    body = soup.find(id=\"main\")\n",
    "    queries = body.find_all(\"div\", queries_tag)\n",
    "    for i in queries:\n",
    "        output = {}\n",
    "        header = i.find('a')\n",
    "        title = header.find('div', 'BNeawe vvjwJb AP7Wnd').text\n",
    "        url = header['href']\n",
    "        url = url.replace('/url?q=', '')\n",
    "        url = url[0: s.index(\"&sa\")]\n",
    "        output['url'] = url\n",
    "        output['title'] = title\n",
    "        urls.append(output)    \n",
    "        \n",
    "    return urls\n",
    "\"\"\""
   ]
  },
  {
   "cell_type": "code",
   "execution_count": 26,
   "id": "2fde9b19",
   "metadata": {},
   "outputs": [],
   "source": [
    "def get_google_news_urls(q, total, from_year, to_year):\n",
    "    urls = []\n",
    "    for url in search(q, tld=\"co.in\", start=0, stop=total, num=10, pause=10, lang='en', tbs=f'sbd:1,lr:lang_en,cdr:1,cd_min:1/1/{from_year},cd_max:{to_year}', extra_params={'tbm': 'nws'}):\n",
    "        print(url)\n",
    "        urls.append(url)\n",
    "    return urls"
   ]
  },
  {
   "cell_type": "code",
   "execution_count": 14,
   "id": "91f42a0c",
   "metadata": {},
   "outputs": [],
   "source": [
    "def get_news_data(url):\n",
    "    output = {}\n",
    "    text = \"\"\n",
    "    try:\n",
    "        article = requests.get(url, headers=headers, timeout=request_timeout)\n",
    "        status_code = article.status_code\n",
    "        if status_code >= 400:\n",
    "            print(url, status_code)\n",
    "            return None\n",
    "        soup = bs(article.content, \"html.parser\")\n",
    "        datetime = soup.find('meta', property='article:published_time')\n",
    "        paragraphs = soup.find_all(\"p\")\n",
    "        title = soup.find('title').text\n",
    "        for p in paragraphs:\n",
    "            text += re.sub(html_pattern, '', p.text).strip() + ' '\n",
    "        output['text'] = text\n",
    "        output['title'] = title\n",
    "        if datetime is not None:\n",
    "            output['datetime'] = datetime['content']\n",
    "        output['url'] = url\n",
    "        return output\n",
    "    except requests.exceptions.RequestException as e:\n",
    "        print(url, e)"
   ]
  },
  {
   "cell_type": "code",
   "execution_count": 15,
   "id": "2ef8e469",
   "metadata": {},
   "outputs": [],
   "source": [
    "def save_dataset(q, total, from_year, to_year):\n",
    "    urls = get_google_news_urls(q, total, from_year, to_year)\n",
    "    total_count = 0\n",
    "    for url in urls:\n",
    "        try:\n",
    "            data = get_news_data(url)\n",
    "            if data is None:\n",
    "                print(url, 'is none')\n",
    "                continue\n",
    "                print('still done after continue')\n",
    "            if q not in os.listdir():\n",
    "                cwd = os.getcwd()\n",
    "                os.mkdir(f'{cwd}/{q}')\n",
    "            total_count += 1\n",
    "            file_error_symbols = []\n",
    "            filename = re.sub(r'[/|:?<>\"]', '', data[\"title\"]).strip().replace('\\n', '').replace('\\r', '')\n",
    "            f = open(f'./{q}/{filename}.json', \"w\")\n",
    "            f.write(json.dumps(data, indent = 4))\n",
    "            f.close()\n",
    "        except requests.exceptions.RequestException as e:\n",
    "            print(e)\n",
    "    print(f'Saved {total_count} news data in year {from_year} - {to_year}')\n",
    "    #print(os.system(\"npx prettier -w ./dataset/*.json\"))"
   ]
  },
  {
   "cell_type": "code",
   "execution_count": 11,
   "id": "039c43c2",
   "metadata": {},
   "outputs": [],
   "source": [
    "def parallel_save_dataset(q, total, from_year, to_year):\n",
    "    start = time.time()\n",
    "    Parallel(n_jobs=4)(delayed(save_dataset)(q, total, year, year) for year in range(from_year, to_year + 1))\n",
    "    end = time.time()\n",
    "    print('{:.2f} seconds used'.format(end - start))"
   ]
  },
  {
   "cell_type": "code",
   "execution_count": 10,
   "id": "1b8c9998",
   "metadata": {},
   "outputs": [
    {
     "name": "stdout",
     "output_type": "stream",
     "text": [
      "https://news.com.au/entertainment/music/the-dark-side-of-kpop-what-lurks-beneath-the-surface-of-this-perfect-plastic-world/news-story/bfa6f7bd0ab5e6c985d43c8a680cabb6 403\n",
      "https://news.com.au/entertainment/music/the-dark-side-of-kpop-what-lurks-beneath-the-surface-of-this-perfect-plastic-world/news-story/bfa6f7bd0ab5e6c985d43c8a680cabb6 is none\n",
      "Saved 99 news data in year 2014 - 2014\n"
     ]
    }
   ],
   "source": [
    "#parallel compute specific page of search query and save into json files\n",
    "save_dataset('k-pop', 100, 2014, 2014)"
   ]
  },
  {
   "cell_type": "code",
   "execution_count": 9,
   "id": "57a6947a",
   "metadata": {},
   "outputs": [],
   "source": [
    "#save_dataset('k-pop', 5, 2013, 2013)"
   ]
  },
  {
   "cell_type": "code",
   "execution_count": 30,
   "id": "fe3031dc",
   "metadata": {},
   "outputs": [],
   "source": [
    "def save_all_news_urls(q, total, from_year, to_year):\n",
    "    urls = {}\n",
    "    for year in range(from_year, to_year + 1):\n",
    "        urls[str(year)] = get_google_news_urls(q, total, year, year)\n",
    "        #delay request to prevent 429 Too many Request\n",
    "        time.sleep(60)\n",
    "    f = open(f'{q}.json', 'w')\n",
    "    f.write(json.dumps(urls, indent = 4))\n",
    "    f.close()\n",
    "    return urls"
   ]
  },
  {
   "cell_type": "code",
   "execution_count": 32,
   "id": "c56ef85c",
   "metadata": {},
   "outputs": [],
   "source": [
    "def get_urls_from_file(filename):\n",
    "    f = open(filename, \"r\")\n",
    "    data = json.load(f)\n",
    "    f.close()\n",
    "    return data"
   ]
  }
 ],
 "metadata": {
  "kernelspec": {
   "display_name": "Python 3 (ipykernel)",
   "language": "python",
   "name": "python3"
  },
  "language_info": {
   "codemirror_mode": {
    "name": "ipython",
    "version": 3
   },
   "file_extension": ".py",
   "mimetype": "text/x-python",
   "name": "python",
   "nbconvert_exporter": "python",
   "pygments_lexer": "ipython3",
   "version": "3.9.18"
  }
 },
 "nbformat": 4,
 "nbformat_minor": 5
}
