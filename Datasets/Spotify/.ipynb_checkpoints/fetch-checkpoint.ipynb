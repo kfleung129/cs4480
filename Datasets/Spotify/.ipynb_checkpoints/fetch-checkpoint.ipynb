{
 "cells": [
  {
   "cell_type": "code",
   "execution_count": null,
   "id": "60f09637",
   "metadata": {},
   "outputs": [],
   "source": [
    "#pre installment\n",
    "#!pip install python-dotenv requests"
   ]
  },
  {
   "cell_type": "code",
   "execution_count": 13,
   "id": "5f2f72e1",
   "metadata": {},
   "outputs": [],
   "source": [
    "import os\n",
    "import requests\n",
    "from dotenv import load_dotenv\n",
    "load_dotenv()\n",
    "\n",
    "#global variables\n",
    "API_TOKEN = os.getenv(\"API_TOKEN\")\n",
    "URL_BASE = \"https://api.spotify.com/v1/\""
   ]
  },
  {
   "cell_type": "code",
   "execution_count": 22,
   "id": "5673eb3d",
   "metadata": {},
   "outputs": [
    {
     "data": {
      "text/plain": [
       "'<!DOCTYPE html>\\n<html ng-app=\"accounts\" ng-csp>\\n  <head>\\n    <meta charset=\"utf-8\">\\n    <title>Error - Spotify</title>\\n    <meta name=\"viewport\" content=\"width=device-width, initial-scale=1.0, maximum-scale=1.0, user-scalable=no\">\\n    <base href=\"/\">\\n    <link rel=\"icon\" href=\"https://accounts.scdn.co/oauth2/images/favicon.ace4d8543bbb017893402a1e9d1ac1fa.ico\">\\n    <link href=\"\" media=\"screen\" rel=\"stylesheet\">\\n  </head>\\n  <body>\\n  <div class=\"head\">\\n    <a class=\"spotify-logo\" href=\"/\" tabindex=\"-1\" title=\"Spotify\"></a>\\n  </div>\\n\\n    <div class=\"container-fluid error\">\\n      <div class=\"content\">\\n        <h1 class=\"h1\">Error</h1>\\n        <p>\\n          Oops! Something went wrong, please try again or check out our <a href=\"https://www.spotify.com/help\">help area</a>.\\n        </p>\\n      </div>\\n    </div>\\n    <script async defer src=\"{2}\" sp-error=\\'{3}\\'></script>\\n  </body>\\n</html>\\n'"
      ]
     },
     "execution_count": 22,
     "metadata": {},
     "output_type": "execute_result"
    }
   ],
   "source": [
    "r = requests.get(\n",
    "    \"https://accounts.spotify.com/api/token?grant_type=authorization_code&code=AQAVEn2ywyMEulxJCm3wci1CQ7HXyU9bIzMvNFibL8gxK98CWunt5b_KwnKxfBZdVCcMGndzTsNtRtS4g1SPkoldOCKbj-bw2wENDI7cF7lA8ob_Kqz8cOl5gYVsYZkwEwge44qvEoc-AJNY6j3GoQ5WUrBOjX9UFCOwPMNxXeVTN8l41ZPfnw&redirect_uri=https://github.com/kfleung129/cs4480\", \n",
    "    headers={\"Authorization\": f'Basic NDczOWRmNWFiOGY0NGI3ZDhhODkxNDgzYjVmNjBlM2I6ZDE3YmY0ZTAyMDQxNDQ3ZWE2NTNjNDcyMjE1MDkyMTU='\n",
    "    \n",
    "})\n",
    "r.text"
   ]
  },
  {
   "cell_type": "code",
   "execution_count": null,
   "id": "56c46959",
   "metadata": {},
   "outputs": [],
   "source": []
  }
 ],
 "metadata": {
  "kernelspec": {
   "display_name": "Python 3 (ipykernel)",
   "language": "python",
   "name": "python3"
  },
  "language_info": {
   "codemirror_mode": {
    "name": "ipython",
    "version": 3
   },
   "file_extension": ".py",
   "mimetype": "text/x-python",
   "name": "python",
   "nbconvert_exporter": "python",
   "pygments_lexer": "ipython3",
   "version": "3.9.18"
  }
 },
 "nbformat": 4,
 "nbformat_minor": 5
}
