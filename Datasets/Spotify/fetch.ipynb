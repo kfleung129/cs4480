{
 "cells": [
  {
   "cell_type": "code",
   "execution_count": null,
   "id": "60f09637",
   "metadata": {},
   "outputs": [],
   "source": [
    "#pre installment\n",
    "#!pip install python-dotenv requests"
   ]
  },
  {
   "cell_type": "code",
   "execution_count": 1,
   "id": "5f2f72e1",
   "metadata": {},
   "outputs": [],
   "source": [
    "import os\n",
    "import requests\n",
    "import pandas as pd\n",
    "from dotenv import load_dotenv\n",
    "load_dotenv()\n",
    "\n",
    "#secret variables\n",
    "CLIENT_ID = os.getenv(\"CLIENT_ID\")\n",
    "REFRESH_TOKEN = os.getenv(\"REFRESH_TOKEN\")"
   ]
  },
  {
   "cell_type": "code",
   "execution_count": 2,
   "id": "587c5301",
   "metadata": {},
   "outputs": [],
   "source": [
    "def refresh_api_token():\n",
    "    r = requests.post(\n",
    "        \"https://accounts.spotify.com/api/token\",\n",
    "        headers={\"Authorization\": f'Basic NDczOWRmNWFiOGY0NGI3ZDhhODkxNDgzYjVmNjBlM2I6ZDE3YmY0ZTAyMDQxNDQ3ZWE2NTNjNDcyMjE1MDkyMTU='},\n",
    "        data={\n",
    "            \"grant_type\": \"refresh_token\",\n",
    "            \"refresh_token\": REFRESH_TOKEN,\n",
    "        }\n",
    "    )\n",
    "    #expiration occur\n",
    "    res = r.json()\n",
    "    if \"error\" in res:\n",
    "        print(res[\"error_description\"])\n",
    "        return None\n",
    "    return res[\"access_token\"]"
   ]
  },
  {
   "cell_type": "code",
   "execution_count": 3,
   "id": "c83d30fe",
   "metadata": {},
   "outputs": [],
   "source": [
    "#global variables\n",
    "global access_token\n",
    "access_token = refresh_api_token()\n",
    "url_base = \"https://api.spotify.com/v1/\"\n",
    "redirect_uri = \"https://github.com/kfleung129/cs4480\"\n",
    "kpop_genres = \"0JQ5DAqbMKFGvOw3O4nLAf\"\n",
    "jpop_genres = \"\""
   ]
  },
  {
   "cell_type": "code",
   "execution_count": 57,
   "id": "8354b141",
   "metadata": {},
   "outputs": [],
   "source": [
    "#read spotify chart dataset\n",
    "df = pd.read_csv('charts.csv')"
   ]
  },
  {
   "cell_type": "code",
   "execution_count": 4,
   "id": "6614100c",
   "metadata": {},
   "outputs": [],
   "source": [
    "def get_albums(id):\n",
    "    global access_token\n",
    "    r = requests.get(\n",
    "        f'https://api.spotify.com/v1/artists/{id}/albums',\n",
    "        headers={\"Authorization\": f'Bearer {access_token}'}\n",
    "    )\n",
    "    res = r.json()\n",
    "    \n",
    "    #error handling\n",
    "    if \"error\" in res:\n",
    "        print(res[\"error\"][\"message\"])\n",
    "        return None\n",
    "        \n",
    "    return res"
   ]
  },
  {
   "cell_type": "code",
   "execution_count": 5,
   "id": "fc61590a",
   "metadata": {},
   "outputs": [],
   "source": [
    "def get_tracks(id):\n",
    "    global access_token\n",
    "    r = requests.get(\n",
    "        f'https://api.spotify.com/v1/albums/{id}/tracks',\n",
    "        headers={\"Authorization\": f'Bearer {access_token}'}\n",
    "    )\n",
    "    res = r.json()\n",
    "    \n",
    "    #error handling\n",
    "    if \"error\" in res:\n",
    "        print(res[\"error\"][\"message\"])\n",
    "        return None\n",
    "        \n",
    "    return res"
   ]
  },
  {
   "cell_type": "code",
   "execution_count": 6,
   "id": "ec7e0de6",
   "metadata": {},
   "outputs": [],
   "source": [
    "def get_tracks_play_count(id):\n",
    "    global access_token\n",
    "    r = requests.get(\n",
    "        f'https://api.t4ils.dev/albumPlayCount?albumid={id}',\n",
    "        headers={\"Authorization\": f'Bearer {access_token}'}\n",
    "    )\n",
    "    res = r.json()\n",
    "    \n",
    "    #error handling\n",
    "    if \"error\" in res:\n",
    "        print(res[\"error\"][\"message\"])\n",
    "        return None\n",
    "        \n",
    "    return res"
   ]
  },
  {
   "cell_type": "code",
   "execution_count": 7,
   "id": "254985b0",
   "metadata": {},
   "outputs": [],
   "source": [
    "def get_track(id):\n",
    "    global access_token\n",
    "    r = requests.get(\n",
    "        f'https://api.spotify.com/v1/tracks/{id}/',\n",
    "        headers={\"Authorization\": f'Bearer {access_token}'}\n",
    "    )\n",
    "    res = r.json()\n",
    "    \n",
    "    #error handling\n",
    "    if \"error\" in res:\n",
    "        print(res[\"error\"][\"message\"])\n",
    "        return None\n",
    "        \n",
    "    return res"
   ]
  },
  {
   "cell_type": "code",
   "execution_count": 24,
   "id": "16b55040",
   "metadata": {},
   "outputs": [],
   "source": [
    "def get_artist(id):\n",
    "    global access_token\n",
    "    r = requests.get(\n",
    "        f'https://api.spotify.com/v1/artists/{id}/',\n",
    "        headers={\"Authorization\": f'Bearer {access_token}'}\n",
    "    )\n",
    "    res = r.json()\n",
    "    \n",
    "    #error handling\n",
    "    if \"error\" in res:\n",
    "        print(res[\"error\"][\"message\"])\n",
    "        return None\n",
    "        \n",
    "    return res"
   ]
  },
  {
   "cell_type": "code",
   "execution_count": 8,
   "id": "761a777d",
   "metadata": {},
   "outputs": [],
   "source": [
    "def search(name, _type):\n",
    "    global access_token\n",
    "    r = requests.get(\n",
    "        f'https://api.spotify.com/v1/search?q={name}&type={_type}',\n",
    "        headers={\"Authorization\": f'Bearer {access_token}'}\n",
    "    )\n",
    "    res = r.json()\n",
    "    \n",
    "    #error handling\n",
    "    if \"error\" in res:\n",
    "        print(res[\"error\"][\"message\"])\n",
    "        return None\n",
    "        \n",
    "    return res"
   ]
  },
  {
   "cell_type": "code",
   "execution_count": null,
   "id": "681ec58e",
   "metadata": {},
   "outputs": [],
   "source": [
    "kpop_items = search(\"justin bieber\", \"artist\")[\"artists\"][\"items\"]\n",
    "kpop_items[0]"
   ]
  },
  {
   "cell_type": "code",
   "execution_count": null,
   "id": "69fdf29a",
   "metadata": {},
   "outputs": [],
   "source": [
    "for i in kpop_items:\n",
    "    print(f'{i[\"name\"]}: {i[\"id\"]}')"
   ]
  },
  {
   "cell_type": "code",
   "execution_count": null,
   "id": "ee670726",
   "metadata": {},
   "outputs": [],
   "source": [
    "albums = get_albums(kpop_items[0]['id'])\n",
    "def get_artist_dataframes():\n",
    "    for i in albums['items']:\n",
    "        flag = False\n",
    "        for k in i['artists']:\n",
    "            if k['name'] == kpop_items[0]['name']:\n",
    "                flag = True\n",
    "                break\n",
    "        if not flag:\n",
    "            continue\n",
    "\n",
    "        album = get_tracks_play_count(i['id'])\n",
    "        for tracks in album['data']['discs']:\n",
    "            for track in tracks['tracks']:\n",
    "                print(f'{track[\"name\"]}: {track.keys()}')\n",
    "                \n",
    "get_artist_dataframes()"
   ]
  },
  {
   "cell_type": "code",
   "execution_count": 85,
   "id": "ced4b6f0",
   "metadata": {},
   "outputs": [],
   "source": [
    "def get_track_genres(id):\n",
    "    track = get_track(id)\n",
    "    track_artists = track['artists']\n",
    "    res = ''\n",
    "    for artist in track_artists:\n",
    "        _id = artist['id']\n",
    "        genres = get_artist(_id)['genres']\n",
    "        res = res + ','.join(genres) + ','\n",
    "    return res[0: len(res) - 1]"
   ]
  },
  {
   "cell_type": "code",
   "execution_count": 86,
   "id": "2a988078",
   "metadata": {},
   "outputs": [],
   "source": [
    "hong_kong_100 = df[df['region'] == 'Hong Kong'][0: 100]"
   ]
  },
  {
   "cell_type": "code",
   "execution_count": 87,
   "id": "022f579c",
   "metadata": {},
   "outputs": [
    {
     "name": "stdout",
     "output_type": "stream",
     "text": [
      "The Chainsmokers, Halsey: pop,electropop,etherpop,indie poptimism,pop\n",
      "The Weeknd, Daft Punk: canadian contemporary r&b,canadian pop,pop,electro,filter house,rock\n",
      "DJ Snake, Justin Bieber: edm,electronic trap,pop,pop dance,canadian pop,pop\n",
      "ZAYN, Taylor Swift: pop,uk pop,pop\n",
      "Maroon 5, Kendrick Lamar: pop,conscious hip hop,hip hop,rap,west coast rap\n",
      "Bruno Mars: dance pop,pop\n",
      "Charlie Puth: pop,viral pop,pop,post-teen pop\n",
      "Machine Gun Kelly: ohio hip hop,pop rap,dance pop,pop\n",
      "James Arthur: pop,talent show,uk pop\n",
      "The Weeknd, Daft Punk: canadian contemporary r&b,canadian pop,pop,electro,filter house,rock\n",
      "The Chainsmokers, Phoebe Ryan: pop,alt z,indie poptimism\n",
      "Shawn Mendes: canadian pop,pop,viral pop\n",
      "Clean Bandit: pop,uk dance,uk funky,dance pop,dancehall,pop,pop rap,pop\n",
      "Alan Walker: electro house\n",
      "The Chainsmokers: pop,alt z,pop\n",
      "Dear Jane: cantopop\n",
      "Major Lazer: dance pop,edm,electro house,moombahton,pop,pop dance,canadian pop,pop,dance pop,danish pop,electropop,pop dance\n",
      "Dear Jane: cantopop\n",
      "Charmaine Fong: cantopop\n",
      "Supper Moment: cantopop\n",
      "Alan Walker: electro house\n",
      "Martin Garrix, Bebe Rexha: dutch edm,edm,pop,pop dance,progressive house,dance pop,pop\n",
      "Steve Aoki, Louis Tomlinson: edm,electro house,pop dance,pop\n",
      "Hailee Steinfeld, Grey, Zedd: pop,pop edm,complextro,edm,german techno,pop,pop dance\n",
      "Starley: aussietronica,melbourne bounce\n",
      "Drake, WizKid, Kyla: canadian hip hop,canadian pop,hip hop,pop rap,rap,afrobeats,afropop,azonto,nigerian hip hop,nigerian pop,uk funky\n",
      "JW: cantopop\n",
      "Justin Timberlake: dance pop,pop\n",
      "The Vamps, Matoma: boy band,pop,pop dance,tropical house\n",
      "Jason Chan: cantopop\n",
      "Sia: australian dance,australian pop,pop\n",
      "BIGBANG: k-pop,k-pop boy group\n",
      "Dear Jane: cantopop\n",
      "Juno Mak: cantopop\n",
      "Calvin Harris: dance pop,edm,electro house,house,pop,pop dance,progressive house,uk dance,barbadian pop,pop,urban contemporary\n",
      "Ariana Grande, Nicki Minaj: pop,hip pop,pop,queens hip hop,rap\n",
      "Justin Bieber: canadian pop,pop\n",
      "Supper Moment: cantopop\n",
      "Drake: canadian hip hop,canadian pop,hip hop,pop rap,rap\n",
      "Jonas Blue, RAYE: pop,pop dance,tropical house,uk dance,uk contemporary r&b,uk pop\n",
      "Shawn Mendes: canadian pop,pop,viral pop\n",
      "Fifth Harmony: girl group,pop,talent show,hip hop,pop rap,r&b,southern hip hop,trap,trap soul\n",
      "Phil Lam: cantopop\n",
      "Kwan Gor: cantopop\n",
      "AGA, Gin Lee: cantopop,cantopop,malaysian mandopop\n",
      "Alessia Cara: canadian contemporary r&b,canadian pop,pop\n",
      "Alessia Cara: canadian contemporary r&b,canadian pop,pop\n",
      "Supper Moment: cantopop\n",
      "Twenty One Pilots: modern rock,pop,pov: indie,rock\n",
      "CHANYEOL, Punch: k-pop,\n",
      "BIGBANG: k-pop,k-pop boy group\n",
      "Pakho Chau: cantopop\n",
      "John Legend: neo soul,pop,pop soul,urban contemporary\n",
      "Stephanie Ho: cantopop\n",
      "Rae Sremmurd, Gucci Mane: melodic rap,mississippi hip hop,pop rap,rap,trap,atl hip hop,dirty south rap,hip hop,pop rap,rap,southern hip hop,trap\n",
      "Zara Larsson: pop,scandipop,swedish electropop,swedish pop\n",
      "Dear Jane: cantopop\n",
      "Bruno Mars: dance pop,pop\n",
      "Mike Posner: dance pop,pop,pop dance,pop rap,pop dance\n",
      "Eric Chou: mandopop\n",
      "TWICE: k-pop,k-pop girl group,pop\n",
      "Phil Lam: cantopop\n",
      "Ariana Grande: pop\n",
      "Jay Chou: c-pop,mandopop,taiwan pop,zhongguo feng\n",
      "Ed Sheeran: pop,singer-songwriter pop,uk pop\n",
      "Mayday: mandopop,taiwan pop\n",
      "DNCE: dance pop,pop\n",
      "The Chainsmokers, XYLØ: pop,alt z,indie poptimism,la pop\n",
      "Nevada, Mark Morrison, Fetty Wap: ,british soul,new jersey rap,pop rap,rap,southern hip hop,trap\n",
      "Joyce Cheng: cantopop\n",
      "Jay Chou, A-Mei Chang: c-pop,mandopop,taiwan pop,zhongguo feng,mandopop\n",
      "Justin Bieber: canadian pop,pop\n",
      "Jason Chan: cantopop\n",
      "Adele: british soul,pop,pop soul,uk pop\n",
      "Alok, Bruno Martini, Zeeba: electro house,pop nacional,sertanejo universitario,slap house,brazilian edm,pop nacional,\n",
      "Jason Chan: cantopop\n",
      "Charmaine Fong: cantopop\n",
      "Robin Schulz, David Guetta, Cheat Codes: deep euro house,deep house,edm,german dance,pop dance,tropical house,big room,dance pop,edm,pop,pop dance,edm,pop,pop dance\n",
      "Calvin Harris: dance pop,edm,electro house,house,pop,pop dance,progressive house,uk dance\n",
      "Pharrell Williams: dance pop,pop\n",
      "gnash: pop,alt z,pop\n",
      "BLACKPINK: k-pop,k-pop girl group,pop\n",
      "Sage The Gemini: hyphy,pop rap,southern hip hop,trap\n",
      "JJ Lin: mandopop,singaporean mandopop,singaporean pop\n",
      "Justin Lo: cantopop\n",
      "Juno Mak: cantopop\n",
      "Kay Tse: cantopop\n",
      "Mike Perry: pop dance,swedish tropical house,alt z,swedish electropop\n",
      "Ruco Chan, Nancy Wu: cantopop,cantopop,hong kong tv drama\n",
      "Lukas Graham: danish pop,scandipop\n",
      "Joker Xue: mandopop\n",
      "Luke Christopher: indie pop rap\n",
      "Jon Bellion: indie pop rap\n",
      "The Jackson 5: motown,soul\n",
      "Cashmere Cat: downtempo,electropop,shiver pop,vapor twitch,pop,post-teen pop,canadian hip hop,canadian trap,melodic rap,pop rap,r&b,rap,trap\n",
      "Charlie Puth: pop,viral pop\n",
      "JC 陳詠桐: cantopop,mandopop\n",
      "Maroon 5: pop\n",
      "BIGBANG: k-pop,k-pop boy group\n",
      "Jonas Blue, JP Cooper: pop,pop dance,tropical house,uk dance,uk pop\n"
     ]
    }
   ],
   "source": [
    "for i in hong_kong_100.index:\n",
    "    track_id = hong_kong_100['url'][i][hong_kong_100['url'][i].rindex('/')+1:]\n",
    "    print(f'{hong_kong_100[\"artist\"][i]}: {get_track_genres(track_id)}')"
   ]
  },
  {
   "cell_type": "code",
   "execution_count": null,
   "id": "5a4e3b90",
   "metadata": {},
   "outputs": [],
   "source": []
  }
 ],
 "metadata": {
  "kernelspec": {
   "display_name": "Python 3 (ipykernel)",
   "language": "python",
   "name": "python3"
  },
  "language_info": {
   "codemirror_mode": {
    "name": "ipython",
    "version": 3
   },
   "file_extension": ".py",
   "mimetype": "text/x-python",
   "name": "python",
   "nbconvert_exporter": "python",
   "pygments_lexer": "ipython3",
   "version": "3.9.18"
  }
 },
 "nbformat": 4,
 "nbformat_minor": 5
}
