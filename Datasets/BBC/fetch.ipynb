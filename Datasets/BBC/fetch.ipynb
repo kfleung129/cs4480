{
 "cells": [
  {
   "cell_type": "code",
   "execution_count": 8,
   "id": "22415633",
   "metadata": {},
   "outputs": [],
   "source": [
    "import requests\n",
    "import json\n",
    "import os\n",
    "import re\n",
    "from bs4 import BeautifulSoup as bs"
   ]
  },
  {
   "cell_type": "code",
   "execution_count": 2,
   "id": "c8398b60",
   "metadata": {},
   "outputs": [],
   "source": [
    "url = 'https://www.bbc.co.uk/news/world-europe-49345912'\n",
    "article = requests.get(url)\n",
    "API_KEY = '56fbf54b42b3482c99ad88de3972b4f5'"
   ]
  },
  {
   "cell_type": "code",
   "execution_count": 3,
   "id": "e1202d92",
   "metadata": {},
   "outputs": [],
   "source": [
    "#common varaibles\n",
    "global paragraph_tag\n",
    "paragraph_tag = \"ssrcss-1q0x1qg-Paragraph e1jhz7w10\""
   ]
  },
  {
   "cell_type": "code",
   "execution_count": 4,
   "id": "4717b111",
   "metadata": {},
   "outputs": [],
   "source": [
    "def get_bbc_data(url):\n",
    "    output = {}\n",
    "    text = \"\"\n",
    "    \"\"\"Parse bbc article and return text in list of strings\"\"\"\n",
    "    article = requests.get(url)\n",
    "    soup = bs(article.content, \"html.parser\")\n",
    "    body = soup.find(\"main\")\n",
    "    time = soup.find(\"time\")\n",
    "    title = soup.find(\"h1\")\n",
    "    for p in body.find_all(\"p\", paragraph_tag):\n",
    "        text += p.text\n",
    "    output['text'] = text\n",
    "    output['datetime'] = time['datetime']\n",
    "    output['title'] = title.text.replace(\":\", \" -\").replace(\"?\", \"\")\n",
    "    return output"
   ]
  },
  {
   "cell_type": "code",
   "execution_count": 5,
   "id": "218b2fcf",
   "metadata": {},
   "outputs": [],
   "source": [
    "def search_bbc_by_page(q, page):\n",
    "    urls = []\n",
    "    url = f'https://www.bbc.co.uk/search?q={q}&seqId=d5652f80-71bd-11ee-a4df-d93796c2fd0b&d=NEWS_GNL&page={page}'\n",
    "    search_result = requests.get(url)\n",
    "    soup = bs(search_result.content, \"html.parser\")\n",
    "    body = soup.find(\"div\", \"ssrcss-16qtiov-ContentStack e1k195vp2\")\n",
    "    for p in body.find_all(\"a\", \"ssrcss-its5xf-PromoLink exn3ah91\"):\n",
    "        #eliminate /programmes in bbc search result\n",
    "        if \"https://www.bbc.co.uk/news\" in p['href']:\n",
    "            urls.append(p['href'])\n",
    "    return urls"
   ]
  },
  {
   "cell_type": "code",
   "execution_count": 6,
   "id": "178272f2",
   "metadata": {},
   "outputs": [],
   "source": [
    "def save_dataset(q, pages):\n",
    "    for page in range(pages):\n",
    "        urls = search_bbc_by_page(q, page)\n",
    "        for url in urls:\n",
    "            data = get_bbc_data(url)\n",
    "            f = open(f'./dataset/{data[\"title\"]}.json', \"w\")\n",
    "            f.write(json.dumps(data))\n",
    "            f.close()\n",
    "        print(f'Done page {page}')\n",
    "    print(f'Sucessfully loaded {pages} page of query')\n",
    "    print(os.system(\"npx prettier -w ./dataset/*.json\"))"
   ]
  },
  {
   "cell_type": "code",
   "execution_count": 7,
   "id": "d8ab1368",
   "metadata": {},
   "outputs": [
    {
     "name": "stdout",
     "output_type": "stream",
     "text": [
      "Done page 0\n",
      "Done page 1\n",
      "Done page 2\n",
      "Done page 3\n",
      "Done page 4\n",
      "Done page 5\n",
      "Done page 6\n",
      "Done page 7\n",
      "Done page 8\n",
      "Done page 9\n",
      "Sucessfully loaded 10 page of query\n"
     ]
    },
    {
     "name": "stderr",
     "output_type": "stream",
     "text": [
      "npm WARN exec The following package was not found and will be installed: prettier\n"
     ]
    },
    {
     "name": "stdout",
     "output_type": "stream",
     "text": [
      "dataset/'Flat-chested' K-pop star responds to 'cruel' body comments.json 62ms\n",
      "dataset/'I could have been a K-pop idol - but I'm glad I quit'.json 24ms\n",
      "dataset/'Train fanatic' great-grandmother waves train off at Honeybourne station.json 10ms\n",
      "dataset/2018 - The year in business - from K-pop to soybeans.json 7ms\n",
      "dataset/A Chinese K-pop groupie in search of music.json 4ms\n",
      "dataset/BLACKPINK become first K-pop girl group to perform at Coachella.json 4ms\n",
      "dataset/BTS - Band gets first ever Grammy nomination for K-pop.json 13ms\n",
      "dataset/BTS - Fans celebrate 10 years of 'unstoppable' K-pop group.json 5ms\n",
      "dataset/BTS - K-pop stars to take time out for military service.json 4ms\n",
      "dataset/BTS - South Korea passes law allowing K-pop stars to postpone military service.json 17ms\n",
      "dataset/BTS - The enduring power of the princes of K-pop.json 3ms\n",
      "dataset/BTS K-pop star gives speech at the United Nations.json 7ms\n",
      "dataset/BTS superfan moves to South Korea to be near K-pop band.json 5ms\n",
      "dataset/Blackpink - Jisoo’s new relationship with Ahn Bo-hyun rocks K-pop world.json 3ms\n",
      "dataset/Blackpink - K-pop group's Kill This Love video sets YouTube record.json 5ms\n",
      "dataset/Blackpink - Meet the K-pop superstars backstage at their first UK tour.json 5ms\n",
      "dataset/Blackpink are the first K-pop band to join YouTube's 'billion views club'.json 4ms\n",
      "dataset/Blackpink make UK festival history with electrifying K-pop set in Hyde Park.json 5ms\n",
      "dataset/Blackswan - The K-pop girl group with no Korean members.json 6ms\n",
      "dataset/Can a girl from the Bronx become the next K-pop star.json 3ms\n",
      "dataset/Can this girl from the Bronx become the next K-pop star.json 5ms\n",
      "dataset/China deported 'large number' of N Korean defectors - Seoul.json 3ms\n",
      "dataset/China floods - The families torn apart by 'huge, furious waves'.json 4ms\n",
      "dataset/Chinese couple charged with murder of South Korean influencer in Cambodia.json 3ms\n",
      "dataset/Chinese social media site Weibo suspends 22 K-pop accounts.json 2ms\n",
      "dataset/Circa Waves - Liverpool rock band donates tour profits to food banks.json 2ms\n",
      "dataset/D-Day veteran Les Budding, 97, tells of first-wave role.json 2ms\n",
      "dataset/Devon family's quest to find Savage Islands wave.json 3ms\n",
      "dataset/Dorset coasteering victim was hit by massive wave, inquest hears.json 2ms\n",
      "dataset/Ecuador chooses president during wave of violence.json 3ms\n",
      "dataset/Eye care - Wales faces tidal wave of blindness - doctor.json 4ms\n",
      "dataset/G7 leaders unsure whether to wave during group photo.json 2ms\n",
      "dataset/Goldman and Bain take control of Korean beauty brand Carver.json 2ms\n",
      "dataset/Henry Lau - From K-Pop to Pop Art.json 3ms\n",
      "dataset/How the fentanyl crisis' fourth wave has hit every corner of the US.json 4ms\n",
      "dataset/Ilfracombe harbour waves swept child into the sea.json 3ms\n",
      "dataset/Imjin River - Korean War veteran Roy Mills honoured by community.json 3ms\n",
      "dataset/Inside the largest Korean community in the UK.json 1ms\n",
      "dataset/Itaewon crush - Mother of K-pop star Lee Ji Han demands investigation.json 3ms\n",
      "dataset/J-Hope - BTS fans 'save' squirrels for K-pop star's birthday.json 3ms\n",
      "dataset/Jonghyun - Family, friends and fans bid K-pop star farewell.json 2ms\n",
      "dataset/Jonghyun - Note shows K-pop star's struggles with depression.json 3ms\n",
      "dataset/Jung Joon-young - K-pop star quits over secret sex videos.json 2ms\n",
      "dataset/K Pop fever takes hold in Malaysia.json 2ms\n",
      "dataset/K-Pop artist Goo Hara found dead at home aged 28.json 2ms\n",
      "dataset/K-Pop star Henry Lau's art work on show in London.json 2ms\n",
      "dataset/K-pop - BTS agency Hybe grows profits by 31%.json 3ms\n",
      "dataset/K-pop - HyunA sacked over relationship controversy.json 2ms\n",
      "dataset/K-pop - The rise of the virtual girl bands.json 3ms\n",
      "dataset/K-pop and Latin - Why the time is now for foreign language hits.json 2ms\n",
      "dataset/K-pop fans drown out #WhiteLivesMatter hashtag.json 2ms\n",
      "dataset/K-pop fans emerge as a powerful force in US protests.json 3ms\n",
      "dataset/K-pop fans in Birmingham find sense of community.json 4ms\n",
      "dataset/K-pop for Kim.json 2ms\n",
      "dataset/K-pop group BTS to take 'extended' break from performing.json 2ms\n",
      "dataset/K-pop star AleXa wins American Song Contest.json 2ms\n",
      "dataset/K-pop star J-Hope embarks on military training as part of mandatory service.json 2ms\n",
      "dataset/K-pop star Jin from BTS begins military service.json 2ms\n",
      "dataset/K-pop star Jung Joon-Young says 'practice' essential.json 2ms\n",
      "dataset/K-pop star Sulli found dead aged 25.json 2ms\n",
      "dataset/K-pop stars Jung Joon-young and Choi Jong-hoon sentenced for rape.json 4ms\n",
      "dataset/K-pop stars entertain Kim Jong-un in North Korea.json 2ms\n",
      "dataset/K-pop stars perform as 'holograms'.json 3ms\n",
      "dataset/K-pop superstars Blackpink in climate change message.json 2ms\n",
      "dataset/K-pop's EXP Edition - The world’s most controversial 'Korean' band.json 2ms\n",
      "dataset/Korean War - Wiltshire veterans group to disband.json 3ms\n",
      "dataset/Korean War - Wreaths laid in Belfast to mark 70 years since armistice.json 2ms\n",
      "dataset/Korean War 70th anniversary event takes place in Belfast.json 3ms\n",
      "dataset/Korean War veteran looks back on 70th anniversary of armistice.json 4ms\n",
      "dataset/Korean War veteran reflects 70 years after conflict's end.json 2ms\n",
      "dataset/Long wave radio fans mourn fading frequencies.json 7ms\n",
      "dataset/Malaysian firms tap into K-Pop power.json 5ms\n",
      "dataset/Mansfield - Teen arrested after knife waved outside Tesco.json 3ms\n",
      "dataset/Meeting K-pop superstars Blackpink.json 5ms\n",
      "dataset/Moonbin - Fans anguished over K-pop star's death in suspected suicide.json 7ms\n",
      "dataset/Moonbin - Star's death renews scrutiny on pressures of K-pop.json 6ms\n",
      "dataset/Mourners leave notes on street for K-pop star Moonbin.json 6ms\n",
      "dataset/New wave of strikes on way, Unite leader Sharon Graham warns.json 13ms\n",
      "dataset/Newquay project means old wetsuits can help children ride waves.json 3ms\n",
      "dataset/North Korean satellite wakes up and worries Seoul.json 6ms\n",
      "dataset/Northern Ireland scientist's role in black hole shock-waves find.json 2ms\n",
      "dataset/Orkney Council to spend £150k to dispose of £1 wave device.json 2ms\n",
      "dataset/PS Waverley - Last seagoing paddle steamer visits Suffolk.json 6ms\n",
      "dataset/Peterborough - 'I'm privileged to help pupils learn Korean culture'.json 4ms\n",
      "dataset/Pioneering wave kit belongs in a museum not a scrapyard.json 3ms\n",
      "dataset/Profile - North Korean leader Kim Jong Un.json 9ms\n",
      "dataset/Proposal to cut Norfolk and Waveney telephone prescription ordering service.json 4ms\n",
      "dataset/Rare Kelvin-Helmholtz wave clouds spotted off Norfolk coast.json 2ms\n",
      "dataset/Royal children wave to Trooping the Colour crowds.json 2ms\n",
      "dataset/Scientists pick up shock waves from colliding galaxies.json 2ms\n",
      "dataset/Seoul crush - K-pop star Lee Ji Han's mother shares her grief.json 3ms\n",
      "dataset/Seungri - Former K-pop star jailed for gambling and organising sex work.json 3ms\n",
      "dataset/Son Jun-ho - South Korean footballer detained in China in bribery probe.json 2ms\n",
      "dataset/South Korea launches 'K-pop academy' in Mexico.json 2ms\n",
      "dataset/South Korea's K-Pop stars look for success in Australia.json 2ms\n",
      "dataset/South Korea's K-pop culture growing in Japan.json 2ms\n",
      "dataset/South Korean POWs abandoned for decades in North Korea.json 2ms\n",
      "dataset/South Korean President Yoon Suk Yeol to meet King Charles in state visit.json 8ms\n",
      "dataset/South Korean cult Grace Road Church members arrested in Fiji.json 2ms\n",
      "dataset/South Korean singer Rain in military service row.json 3ms\n",
      "dataset/South Korean singer Rain reports for military service.json 2ms\n",
      "dataset/South Koreans become younger under new age-counting law.json 2ms\n",
      "dataset/South Koreans unfazed by first nationwide air raid drill in six years.json 2ms\n",
      "dataset/Sowon - K-pop star apologises over 'Nazi mannequin' image.json 2ms\n",
      "dataset/SpaceX moon flight to include DJ, YouTuber and K-pop rapper.json 2ms\n",
      "dataset/Storm Babet brings crashing waves to Peterhead harbour.json 2ms\n",
      "dataset/Strikes - Unions warn of new wave of action in autumn.json 3ms\n",
      "dataset/Suga - BTS star makes rare reference to China's unofficial K-pop ban.json 2ms\n",
      "dataset/Sulli - The woman who rebelled against the K-pop world.json 2ms\n",
      "dataset/Surfer makes waves on Thames over plastic recycling.json 3ms\n",
      "dataset/TXT - K-pop's next 'idol' sensation.json 2ms\n",
      "dataset/Taiwan sees MeToo wave of allegations after Netflix show.json 2ms\n",
      "dataset/The BTS fans investing in their favourite K-pop band.json 2ms\n",
      "dataset/The K-pop inspired band that challenged gender norms in Kazakhstan.json 3ms\n",
      "dataset/The darker side of K-pop.json 2ms\n",
      "dataset/The enduring allure of The Waverley paddle steamer.json 2ms\n",
      "dataset/The other big Korean drama right now.json 3ms\n",
      "dataset/Three points to understand this current wave of migration into the US.json 2ms\n",
      "dataset/Twice - K-Pop star Mina pulls out of tour due to 'extreme anxiety'.json 2ms\n",
      "dataset/US-China chip war - Beijing unhappy at latest wave of US restrictions.json 1ms\n",
      "dataset/Ukraine war - Wave of drone strikes hits several Russian regions.json 2ms\n"
     ]
    },
    {
     "name": "stdout",
     "output_type": "stream",
     "text": [
      "dataset/Unite union predicts 'new wave of industrial action' if services cut.json 2ms\n",
      "dataset/Universal Music jumps on the K-pop bandwagon.json 2ms\n",
      "dataset/Watch - North Korean state TV shows latest missile launch.json 2ms\n",
      "dataset/Waverley - Leisure centres to undergo £1m upgrade.json 2ms\n",
      "dataset/Waverley Borough Council apologises for disability home adaptation delay.json 2ms\n",
      "dataset/What do non-Koreans love about K-pop.json 2ms\n",
      "dataset/Whatever happened to Psy and K-pop’s bid to conquer the world.json 3ms\n",
      "dataset/When K-pop met India - The Indian artists collaborating with Korean stars.json 2ms\n",
      "dataset/Why 26 Korean words have been added to Oxford English Dictionary.json 2ms\n",
      "dataset/Yellow - K-pop artist Lim Kim bites back against stereotypes.json 3ms\n",
      "0\n"
     ]
    },
    {
     "name": "stderr",
     "output_type": "stream",
     "text": [
      "npm notice \n",
      "npm notice New major version of npm available! 8.11.0 -> 10.2.1\n",
      "npm notice Changelog: <https://github.com/npm/cli/releases/tag/v10.2.1>\n",
      "npm notice Run `npm install -g npm@10.2.1` to update!\n",
      "npm notice \n"
     ]
    }
   ],
   "source": [
    "save_dataset('korean wave', 10)"
   ]
  }
 ],
 "metadata": {
  "kernelspec": {
   "display_name": "Python 3 (ipykernel)",
   "language": "python",
   "name": "python3"
  },
  "language_info": {
   "codemirror_mode": {
    "name": "ipython",
    "version": 3
   },
   "file_extension": ".py",
   "mimetype": "text/x-python",
   "name": "python",
   "nbconvert_exporter": "python",
   "pygments_lexer": "ipython3",
   "version": "3.9.13"
  }
 },
 "nbformat": 4,
 "nbformat_minor": 5
}
